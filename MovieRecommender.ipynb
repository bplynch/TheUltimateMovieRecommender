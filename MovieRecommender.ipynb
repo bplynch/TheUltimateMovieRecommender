{
 "cells": [
  {
   "cell_type": "code",
   "execution_count": 1,
   "id": "c92e6d83",
   "metadata": {},
   "outputs": [
    {
     "name": "stderr",
     "output_type": "stream",
     "text": [
      "Loading required package: Matrix\n",
      "\n",
      "Loading required package: arules\n",
      "\n",
      "\n",
      "Attaching package: 'arules'\n",
      "\n",
      "\n",
      "The following objects are masked from 'package:base':\n",
      "\n",
      "    abbreviate, write\n",
      "\n",
      "\n",
      "Loading required package: proxy\n",
      "\n",
      "\n",
      "Attaching package: 'proxy'\n",
      "\n",
      "\n",
      "The following object is masked from 'package:Matrix':\n",
      "\n",
      "    as.matrix\n",
      "\n",
      "\n",
      "The following objects are masked from 'package:stats':\n",
      "\n",
      "    as.dist, dist\n",
      "\n",
      "\n",
      "The following object is masked from 'package:base':\n",
      "\n",
      "    as.matrix\n",
      "\n",
      "\n",
      "Loading required package: registry\n",
      "\n",
      "Registered S3 methods overwritten by 'registry':\n",
      "  method               from \n",
      "  print.registry_field proxy\n",
      "  print.registry_entry proxy\n",
      "\n"
     ]
    }
   ],
   "source": [
    "library(recommenderlab)\n",
    "library(Matrix)"
   ]
  },
  {
   "cell_type": "markdown",
   "id": "c13d62cf",
   "metadata": {},
   "source": [
    "## Load Movie Data "
   ]
  },
  {
   "cell_type": "code",
   "execution_count": 3,
   "id": "2bf7875e",
   "metadata": {},
   "outputs": [],
   "source": [
    "myurl = \"https://liangfgithub.github.io/MovieData/\"\n",
    "ratings = read.csv(paste0(myurl, 'ratings.dat?raw=true'), \n",
    "                   sep = ':',\n",
    "                   colClasses = c('integer', 'NULL'), \n",
    "                   header = FALSE)\n",
    "colnames(ratings) = c('UserID', 'MovieID', 'Rating', 'Timestamp')\n",
    "ratings$Timestamp = NULL"
   ]
  },
  {
   "cell_type": "code",
   "execution_count": 5,
   "id": "5f23623c",
   "metadata": {},
   "outputs": [],
   "source": [
    "set.seed(3648)\n",
    "train.id = sample(nrow(ratings), floor(nrow(ratings)) * 0.8)\n",
    "train = ratings[train.id, ]\n",
    "head(train)"
   ]
  },
  {
   "cell_type": "code",
   "execution_count": null,
   "id": "2d093d89",
   "metadata": {},
   "outputs": [],
   "source": [
    "test = ratings[-train.id, ]\n"
   ]
  }
 ],
 "metadata": {
  "kernelspec": {
   "display_name": "R",
   "language": "R",
   "name": "ir"
  },
  "language_info": {
   "codemirror_mode": "r",
   "file_extension": ".r",
   "mimetype": "text/x-r-source",
   "name": "R",
   "pygments_lexer": "r",
   "version": "4.1.1"
  }
 },
 "nbformat": 4,
 "nbformat_minor": 5
}
